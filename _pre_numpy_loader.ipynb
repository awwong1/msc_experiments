{
 "cells": [
  {
   "cell_type": "markdown",
   "metadata": {},
   "source": [
    "janky code for the NumpyLoader dataset class."
   ]
  },
  {
   "cell_type": "code",
   "execution_count": 42,
   "metadata": {},
   "outputs": [],
   "source": [
    "import json\n",
    "import os\n",
    "from functools import partial\n",
    "import numpy as np\n",
    "from datasets.utils import walk_files\n",
    "from sklearn.preprocessing import normalize, MultiLabelBinarizer\n",
    "import joblib\n",
    "from torch.utils.data import DataLoader\n",
    "from datasets import CinC2020Beats, NumpyLoader\n",
    "import matplotlib.pyplot as plt"
   ]
  },
  {
   "cell_type": "code",
   "execution_count": 51,
   "metadata": {},
   "outputs": [
    {
     "data": {
      "text/plain": [
       "MultiLabelBinarizer(classes=[368009, 6374002, 10370003, 11157007, 13640000,\n",
       "                             17338001, 27885002, 28189009, 29320008, 39732003,\n",
       "                             47665007, 49260003, 49578007, 50799005, 53741008,\n",
       "                             54016002, 54329005, 55930002, 57054005, 59118001,\n",
       "                             59931005, 60423000, 61277005, 63593006, 65778007,\n",
       "                             67198005, 74390002, 74615001, 75532003, 77867006, ...])"
      ]
     },
     "execution_count": 51,
     "metadata": {},
     "output_type": "execute_result"
    }
   ],
   "source": [
    "with open(\"data/snomed_ct_dx_map.json\", \"r\") as f:\n",
    "    code_mapping = json.load(f)\n",
    "label_keys = sorted(list(map(int, code_mapping.keys())))\n",
    "mlb = MultiLabelBinarizer(classes = label_keys)\n",
    "mlb.fit(label_keys)\n",
    "# mlb.transform([[label_keys[0],]])"
   ]
  },
  {
   "cell_type": "code",
   "execution_count": 11,
   "metadata": {},
   "outputs": [
    {
     "name": "stdout",
     "output_type": "stream",
     "text": [
      "767097\n",
      "[(400, 12), (400,), (400,), (400, 123)]\n"
     ]
    }
   ],
   "source": [
    "ds = CinC2020Beats()\n",
    "print(len(ds))\n",
    "def load_stackable_cache(ds_out):\n",
    "    valid_windows, age, sex, dx = ds_out\n",
    "\n",
    "    num_windows, _ = valid_windows.shape\n",
    "    \n",
    "    age = np.repeat(age, num_windows).astype(np.intc)\n",
    "    sex = np.repeat(sex, num_windows).astype(np.intc)\n",
    "    dx = np.repeat(dx, num_windows, axis=0).astype(np.bool_)\n",
    "    return valid_windows, age, sex, dx\n",
    "\n",
    "print([v.shape for v in load_stackable_cache(ds[0])])\n",
    "# ds[i] for i in range(len(ds))"
   ]
  },
  {
   "cell_type": "code",
   "execution_count": 61,
   "metadata": {},
   "outputs": [
    {
     "name": "stdout",
     "output_type": "stream",
     "text": [
      "(12, 400, 12) (12,) (12,) (12, 123)\n"
     ]
    }
   ],
   "source": [
    "def load_stackable_cache(npz_file):\n",
    "    with open(npz_file, \"rb\") as f:\n",
    "        valid_windows = np.load(f)\n",
    "        age = np.load(f)\n",
    "        sex = np.load(f)\n",
    "        dx = np.load(f)\n",
    "\n",
    "    valid_windows = valid_windows.astype(np.float32)\n",
    "    np.nan_to_num(valid_windows, copy=False)\n",
    "    valid_windows = np.stack([normalize(w.T).T for w in valid_windows])\n",
    "    num_windows, _, _ = valid_windows.shape\n",
    "    age = np.repeat(age, num_windows).astype(np.intc)\n",
    "    sex = np.repeat(sex, num_windows).astype(np.intc)\n",
    "    \n",
    "    sparse_dx = mlb.transform([dx,])\n",
    "    sparse_dx = np.repeat(sparse_dx, num_windows, axis=0).astype(np.bool_)\n",
    "\n",
    "    return valid_windows, age, sex, sparse_dx\n",
    "\n",
    "npz_files = tuple(walk_files(\n",
    "    \"data/.cache_beat_400\", suffix=\".npz\", prefix=True, remove_suffix=False\n",
    "))\n",
    "# zip(*map(load_stackable_cache, npz_files))\n",
    "valid_windows, age, sex, sparse_dx = load_stackable_cache(npz_files[0])\n",
    "# plt.plot(valid_windows[0])\n",
    "# plt.show()\n",
    "# plt.plot(ds[0][0])\n",
    "# plt.show()\n",
    "# sparse_dx == ds[0][3]\n",
    "\n",
    "print(valid_windows.shape, age.shape, sex.shape, sparse_dx.shape)"
   ]
  },
  {
   "cell_type": "code",
   "execution_count": 64,
   "metadata": {},
   "outputs": [
    {
     "name": "stdout",
     "output_type": "stream",
     "text": [
      "windows (767097, 400, 12)\n",
      "age (767097,)\n",
      "sex (767097,)\n",
      "dx (767097, 123)\n"
     ]
    }
   ],
   "source": [
    "\n",
    "# valid_windows, age, sex, dx = zip(*map(load_stackable_cache, [ds[i] for i in range(10)]))\n",
    "valid_windows, age, sex, dx = zip(*map(load_stackable_cache, npz_files))\n",
    "\n",
    "# valid_windows, age, sex, dx = zip(*joblib.Parallel(n_jobs=-1, verbose=1)(\n",
    "#     joblib.delayed(load_stackable_cache)(npz_file)\n",
    "#     for npz_file in npz_files[:2]\n",
    "# ))\n",
    "if not os.path.isfile(\"cache_beat_400_windows.npy\"):\n",
    "    with open(\"cache_beat_400_windows.npy\", \"wb\") as f:\n",
    "        _windows = np.concatenate(valid_windows)\n",
    "        print(\"windows\", _windows.shape)\n",
    "        np.save(f, _windows)\n",
    "if not os.path.isfile(\"cache_beat_400_age.npy\"):\n",
    "    with open(\"cache_beat_400_age.npy\", \"wb\") as f:\n",
    "        _age = np.concatenate(age)\n",
    "        print(\"age\", _age.shape)\n",
    "        np.save(f, _age)\n",
    "if not os.path.isfile(\"cache_beat_400_sex.npy\"):\n",
    "    with open(\"cache_beat_400_sex.npy\", \"wb\") as f:\n",
    "        _sex = np.concatenate(sex)\n",
    "        print(\"sex\", _sex.shape)\n",
    "        np.save(f, _sex)\n",
    "if not os.path.isfile(\"cache_beat_400_dx.npy\"):\n",
    "    with open(\"cache_beat_400_dx.npy\", \"wb\") as f:\n",
    "        _dx = np.concatenate(dx)\n",
    "        print(\"dx\", _dx.shape)\n",
    "        np.save(f, _dx)"
   ]
  },
  {
   "cell_type": "code",
   "execution_count": 71,
   "metadata": {},
   "outputs": [
    {
     "data": {
      "text/plain": [
       "array([[False, False, False, ..., False, False, False],\n",
       "       [False, False, False, ..., False, False, False],\n",
       "       [False, False, False, ..., False, False, False],\n",
       "       ...,\n",
       "       [False, False, False, ..., False, False, False],\n",
       "       [False, False, False, ..., False, False, False],\n",
       "       [False, False, False, ..., False, False, False]])"
      ]
     },
     "execution_count": 71,
     "metadata": {},
     "output_type": "execute_result"
    }
   ],
   "source": [
    "dx[0]"
   ]
  },
  {
   "cell_type": "code",
   "execution_count": 39,
   "metadata": {},
   "outputs": [
    {
     "data": {
      "text/plain": [
       "(400, 12)"
      ]
     },
     "execution_count": 39,
     "metadata": {},
     "output_type": "execute_result"
    }
   ],
   "source": [
    "c_ds = NumpyLoader(\"cache_beat_400_windows.npy\")\n",
    "c_ds[0].shape"
   ]
  },
  {
   "cell_type": "code",
   "execution_count": 36,
   "metadata": {},
   "outputs": [
    {
     "data": {
      "text/plain": [
       "{'270492004': ['IAVB', '1st degree av block'],\n",
       " '195042002': ['IIAVB', '2nd degree av block'],\n",
       " '61277005': ['AIVR', 'accelerated idioventricular rhythm'],\n",
       " '426664006': ['AJR', 'accelerated junctional rhythm'],\n",
       " '413444003': ['AMIs', 'acute myocardial ischemia'],\n",
       " '426434006': ['AnMIs', 'anterior ischemia'],\n",
       " '54329005': ['AnMI', 'anterior myocardial infarction'],\n",
       " '164889003': ['AF', 'atrial fibrillation'],\n",
       " '195080001': ['AFAFL', 'atrial fibrillation and flutter'],\n",
       " '164890007': ['AFL', 'atrial flutter'],\n",
       " '195126007': ['AH', 'atrial hypertrophy'],\n",
       " '251268003': ['AP', 'atrial pacing pattern'],\n",
       " '713422000': ['ATach', 'atrial tachycardia'],\n",
       " '233917008': ['AVB', 'av block'],\n",
       " '251170000': ['BPAC', 'blocked premature atrial contraction'],\n",
       " '74615001': ['BTS', 'brady tachy syndrome'],\n",
       " '426627000': ['Brady', 'bradycardia'],\n",
       " '418818005': ['Brug', 'brugada syndrome'],\n",
       " '6374002': ['BBB', 'bundle branch block'],\n",
       " '426749004': ['CAF', 'chronic atrial fibrillation'],\n",
       " '413844008': ['CMIs', 'chronic myocardial ischemia'],\n",
       " '78069008': ['CRPC', 'chronic rheumatic pericarditis'],\n",
       " '27885002': ['CHB', 'complete heart block'],\n",
       " '713427006': ['CRBBB', 'complete right bundle branch block'],\n",
       " '77867006': ['SQT', 'decreased qt interval'],\n",
       " '82226007': ['DIVB', 'diffuse intraventricular block'],\n",
       " '428417006': ['ERe', 'early repolarization'],\n",
       " '251143007': ['ART', 'ecg artefacts'],\n",
       " '29320008': ['ER', 'ectopic rhythm'],\n",
       " '423863005': ['EA', 'electrical alternans'],\n",
       " '251259000': ['HTV', 'high t voltage'],\n",
       " '251120003': ['ILBBB', 'incomplete left bundle branch block'],\n",
       " '713426002': ['IRBBB', 'incomplete right bundle branch block'],\n",
       " '251200008': ['ICA', 'indeterminate cardiac axis'],\n",
       " '425419005': ['IIs', 'inferior ischaemia'],\n",
       " '704997005': ['ISTD', 'inferior st segment depression'],\n",
       " '50799005': ['IAVD', 'isorhythmic dissociation'],\n",
       " '426995002': ['JE', 'junctional escape'],\n",
       " '251164006': ['JPC', 'junctional premature complex'],\n",
       " '426648003': ['JTach', 'junctional tachycardia'],\n",
       " '425623009': ['LIs', 'lateral ischaemia'],\n",
       " '445118002': ['LAnFB', 'left anterior fascicular block'],\n",
       " '253352002': ['LAA', 'left atrial abnormality'],\n",
       " '67741000119109': ['LAE', 'left atrial enlargement'],\n",
       " '446813000': ['LAH', 'left atrial hypertrophy'],\n",
       " '39732003': ['LAD', 'left axis deviation'],\n",
       " '164909002': ['LBBB', 'left bundle branch block'],\n",
       " '445211001': ['LPFB', 'left posterior fascicular block'],\n",
       " '164873001': ['LVH', 'left ventricular hypertrophy'],\n",
       " '370365005': ['LVS', 'left ventricular strain'],\n",
       " '251146004': ['LQRSV', 'low qrs voltages'],\n",
       " '251147008': ['LQRSVLL', 'low qrs voltages in the limb leads'],\n",
       " '251148003': ['LQRSP', 'low qrs voltages in the precordial leads'],\n",
       " '28189009': ['MoII', 'mobitz type 2 second degree atrioventricular block'],\n",
       " '54016002': ['MoI', 'mobitz type i wenckebach atrioventricular block'],\n",
       " '713423005': ['MATach', 'multifocal atrial tachycardia'],\n",
       " '164865005': ['MI', 'myocardial infarction'],\n",
       " '164861001': ['MIs', 'myocardial ischemia'],\n",
       " '65778007': ['NSIACB', 'non-specific interatrial conduction block'],\n",
       " '698252002': ['NSIVCB', 'nonspecific intraventricular conduction disorder'],\n",
       " '428750005': ['NSSTTA', 'nonspecific st t abnormality'],\n",
       " '164867002': ['OldMI', 'old myocardial infarction'],\n",
       " '10370003': ['PR', 'pacing rhythm'],\n",
       " '67198005': ['PSVT', 'paroxysmal supraventricular tachycardia'],\n",
       " '164903001': ['PAVB21', 'partial atrioventricular block 2:1'],\n",
       " '284470004': ['PAC', 'premature atrial contraction'],\n",
       " '164884008': ['PVC', 'premature ventricular complexes'],\n",
       " '427172004': ['PVC', 'premature ventricular contractions'],\n",
       " '111975006': ['LQT', 'prolonged qt interval'],\n",
       " '164917005': ['QAb', 'qwave abnormal'],\n",
       " '164921003': ['RAb', 'r wave abnormal'],\n",
       " '253339007': ['RAAb', 'right atrial abnormality'],\n",
       " '446358003': ['RAH', 'right atrial hypertrophy'],\n",
       " '47665007': ['RAD', 'right axis deviation'],\n",
       " '59118001': ['RBBB', 'right bundle branch block'],\n",
       " '89792004': ['RVH', 'right ventricular hypertrophy'],\n",
       " '55930002': ['STC', 's t changes'],\n",
       " '49578007': ['SPRI', 'shortened pr interval'],\n",
       " '427393009': ['SA', 'sinus arrhythmia'],\n",
       " '426177001': ['SB', 'sinus bradycardia'],\n",
       " '426783006': ['SNR', 'sinus rhythm'],\n",
       " '427084000': ['STach', 'sinus tachycardia'],\n",
       " '429622005': ['STD', 'st depression'],\n",
       " '164931005': ['STE', 'st elevation'],\n",
       " '164930006': ['STIAb', 'st interval abnormal'],\n",
       " '63593006': ['SVPB', 'supraventricular premature beats'],\n",
       " '426761007': ['SVT', 'supraventricular tachycardia'],\n",
       " '251139008': ['ALR', 'suspect arm ecg leads reversed'],\n",
       " '164934002': ['TAb', 't wave abnormal'],\n",
       " '59931005': ['TInv', 't wave inversion'],\n",
       " '251242005': ['UTall', 'tall u wave'],\n",
       " '164937009': ['UAb', 'u wave abnormal'],\n",
       " '11157007': ['VBig', 'ventricular bigeminy'],\n",
       " '17338001': ['VPB', 'ventricular premature beats'],\n",
       " '75532003': ['VEsB', 'ventricular escape beat'],\n",
       " '81898007': ['VEsR', 'ventricular escape rhythm'],\n",
       " '164896001': ['VF', 'ventricular fibrillation'],\n",
       " '111288001': ['VFL', 'ventricular flutter'],\n",
       " '266249003': ['VH', 'ventricular hypertrophy'],\n",
       " '251266004': ['VPP', 'ventricular pacing pattern'],\n",
       " '195060002': ['VPEx', 'ventricular pre excitation'],\n",
       " '164895002': ['VTach', 'ventricular tachycardia'],\n",
       " '251180001': ['VTrig', 'ventricular trigeminy'],\n",
       " '195101003': ['WAP', 'wandering atrial pacemaker'],\n",
       " '74390002': ['WPW', 'wolff parkinson white pattern'],\n",
       " '368009': ['_hvd', 'Heart valve disorder'],\n",
       " '204384007': ['_ciahb',\n",
       "  'Congenital incomplete atrioventricular heart block '],\n",
       " '84114007': ['_hf', 'Heart failure (disorder)'],\n",
       " '266257000': ['_tci', 'Transient cerebral ischaemia'],\n",
       " '49260003': ['_ir', 'Idioventricular rhythm (disorder)'],\n",
       " '53741008': ['_ca', 'Coronary arteriosclerosis (disorder)'],\n",
       " '13640000': ['_fb', 'Fusion beats (disorder)'],\n",
       " '314208002': ['_raf', 'Rapid atrial fibrillation (disorder)'],\n",
       " '425856008': ['_epvt',\n",
       "  'Electrocardiogram: paroxysmal ventricular tachycardia (finding)'],\n",
       " '251182009': ['_pvpc', 'Paired ventricular premature complexes'],\n",
       " '282825002': ['_paf', 'Paroxysmal atrial fibrillation (disorder)'],\n",
       " '60423000': ['_snd', 'Sinus node dysfunction (disorder)'],\n",
       " '251168009': ['_sb', 'Supraventricular bigeminy'],\n",
       " '251173003': ['_ab', 'Atrial bigeminy'],\n",
       " '698247007': ['_ca2', 'Cardiac arrhythmia'],\n",
       " '164951009': ['_eqrsca', 'ECG: QRS complex abnormal'],\n",
       " '57054005': ['_ami', 'Acute myocardial infarction (disorder)'],\n",
       " '164947007': ['LPR', 'Prolonged PR interval']}"
      ]
     },
     "execution_count": 36,
     "metadata": {},
     "output_type": "execute_result"
    }
   ],
   "source": [
    "with open(\"data/snomed_ct_dx_map.json\", \"r\") as f:\n",
    "    key_map = json.load(f)\n",
    "key_map"
   ]
  },
  {
   "cell_type": "code",
   "execution_count": null,
   "metadata": {},
   "outputs": [],
   "source": []
  }
 ],
 "metadata": {
  "kernelspec": {
   "display_name": "Python 3",
   "language": "python",
   "name": "python3"
  },
  "language_info": {
   "codemirror_mode": {
    "name": "ipython",
    "version": 3
   },
   "file_extension": ".py",
   "mimetype": "text/x-python",
   "name": "python",
   "nbconvert_exporter": "python",
   "pygments_lexer": "ipython3",
   "version": "3.8.5"
  }
 },
 "nbformat": 4,
 "nbformat_minor": 4
}
